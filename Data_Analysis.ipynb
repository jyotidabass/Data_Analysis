{
  "nbformat": 4,
  "nbformat_minor": 0,
  "metadata": {
    "colab": {
      "name": "Data Analysis.ipynb",
      "provenance": [],
      "authorship_tag": "ABX9TyOFEAOOdNDjODO/Pim41MQR",
      "include_colab_link": true
    },
    "kernelspec": {
      "name": "python3",
      "display_name": "Python 3"
    },
    "language_info": {
      "name": "python"
    }
  },
  "cells": [
    {
      "cell_type": "markdown",
      "metadata": {
        "id": "view-in-github",
        "colab_type": "text"
      },
      "source": [
        "<a href=\"https://colab.research.google.com/github/jyotidabass/Data_Analysis/blob/main/Data_Analysis.ipynb\" target=\"_parent\"><img src=\"https://colab.research.google.com/assets/colab-badge.svg\" alt=\"Open In Colab\"/></a>"
      ]
    },
    {
      "cell_type": "markdown",
      "source": [
        "*Import dataset*"
      ],
      "metadata": {
        "id": "4Q0jTReXHBiN"
      }
    },
    {
      "cell_type": "code",
      "execution_count": 83,
      "metadata": {
        "id": "E5h21ApKdwxx"
      },
      "outputs": [],
      "source": [
        "import pandas as pd\n",
        "import numpy as np\n",
        "import matplotlib.pyplot as plt\n",
        "import seaborn as sns"
      ]
    },
    {
      "cell_type": "code",
      "source": [
        "def readdata(path):\n",
        "    rawdata = pd.read_csv(path)\n",
        "    return rawdata\n",
        "\n",
        "rawdata = readdata('/train.csv')\n",
        "\n",
        "#rawdata = pd.read_csv()"
      ],
      "metadata": {
        "id": "4nSH_mfUd54_"
      },
      "execution_count": 84,
      "outputs": []
    },
    {
      "cell_type": "code",
      "source": [
        "rawdata.info()"
      ],
      "metadata": {
        "colab": {
          "base_uri": "https://localhost:8080/"
        },
        "id": "99J1fbv8eS3U",
        "outputId": "354ffdfe-25d4-4d63-ff26-c075ccbed1e9"
      },
      "execution_count": 85,
      "outputs": [
        {
          "output_type": "stream",
          "name": "stdout",
          "text": [
            "<class 'pandas.core.frame.DataFrame'>\n",
            "RangeIndex: 484 entries, 0 to 483\n",
            "Data columns (total 28 columns):\n",
            " #   Column               Non-Null Count  Dtype  \n",
            "---  ------               --------------  -----  \n",
            " 0   Age                  484 non-null    float64\n",
            " 1   Weight               484 non-null    float64\n",
            " 2   Build                484 non-null    object \n",
            " 3   Sleep                484 non-null    object \n",
            " 4   Digestive_system     484 non-null    object \n",
            " 5   Skin                 484 non-null    object \n",
            " 6   Urine_quality        484 non-null    int64  \n",
            " 7   Stool_quality        484 non-null    int64  \n",
            " 8   Symptom1             484 non-null    object \n",
            " 9   Weight_status        484 non-null    object \n",
            " 10  Symptom2             484 non-null    object \n",
            " 11  Depleting_sensory    484 non-null    object \n",
            " 12  Symptom 3            484 non-null    object \n",
            " 13  Symptom  4           484 non-null    object \n",
            " 14   Past_surgery        484 non-null    object \n",
            " 15  Description_Surgery  483 non-null    object \n",
            " 16  Dr                   484 non-null    object \n",
            " 17  Descript_doc         484 non-null    object \n",
            " 18  Allergy              484 non-null    object \n",
            " 19  Descr_Allergy        484 non-null    object \n",
            " 20  Habit_food           484 non-null    object \n",
            " 21  Descript_food_habit  484 non-null    object \n",
            " 22  Allopathy            484 non-null    object \n",
            " 23  Descrip_Allopathy    484 non-null    object \n",
            " 24  Supplements          484 non-null    object \n",
            " 25  Descp_supplements    484 non-null    object \n",
            " 26  Others               484 non-null    object \n",
            " 27  Response             469 non-null    float64\n",
            "dtypes: float64(3), int64(2), object(23)\n",
            "memory usage: 106.0+ KB\n"
          ]
        }
      ]
    },
    {
      "cell_type": "code",
      "source": [
        "rawdata.head()"
      ],
      "metadata": {
        "colab": {
          "base_uri": "https://localhost:8080/",
          "height": 577
        },
        "id": "n0Ik5BOueamm",
        "outputId": "c32f4753-828b-4486-ea8f-e0125aae3f49"
      },
      "execution_count": 86,
      "outputs": [
        {
          "output_type": "execute_result",
          "data": {
            "text/plain": [
              "    Age  Weight   Build                             Sleep  \\\n",
              "0  22.0    83.0  Medium  Sometimes good and sometimes bad   \n",
              "1  33.0    87.0  Medium  Sometimes good and sometimes bad   \n",
              "2  38.0    61.0  Medium  Sometimes good and sometimes bad   \n",
              "3  30.0    54.0  Medium  Sometimes good and sometimes bad   \n",
              "4  23.0    70.0  Medium  Sometimes good and sometimes bad   \n",
              "\n",
              "              Digestive_system                        Skin  Urine_quality  \\\n",
              "0            Slow and sluggish            Combination skin              4   \n",
              "1          Good and manageable            Combination skin              4   \n",
              "2          Good and manageable            Combination skin              3   \n",
              "3  Ranges between good and bad  Mostly dry, no lubrication              3   \n",
              "4          Good and manageable            Combination skin              5   \n",
              "\n",
              "   Stool_quality                                    Symptom1 Weight_status  \\\n",
              "0              4                           None of the above        Stable   \n",
              "1              4                           None of the above        Stable   \n",
              "2              4                           None of the above       Gaining   \n",
              "3              2  Constant gas and dissension of the stomach        Losing   \n",
              "4              5                           None of the above        Stable   \n",
              "\n",
              "   ... Allergy           Descr_Allergy Habit_food  \\\n",
              "0  ...      No                      No         No   \n",
              "1  ...      No  may be dust - not sure        Yes   \n",
              "2  ...      No                      No        Yes   \n",
              "3  ...      No                      No         No   \n",
              "4  ...      No                      No         No   \n",
              "\n",
              "                            Descript_food_habit Allopathy  Descrip_Allopathy  \\\n",
              "0                                            No        No                 No   \n",
              "1                 Consume vegetarian food only         No                 No   \n",
              "2  Was vegetarian, started eating fish recently        No                 No   \n",
              "3                                            No       Yes  Typhoid medicine    \n",
              "4                                            No        No                 No   \n",
              "\n",
              "  Supplements                                  Descp_supplements Others  \\\n",
              "0          No                                                 No     No   \n",
              "1          No  Have taken some pills that is said to better t...     No   \n",
              "2         Yes            Omega 3, vitamin C,D,E an B12, turmeric     No   \n",
              "3          No                                                 No     No   \n",
              "4          No                                                 No     No   \n",
              "\n",
              "  Response  \n",
              "0      1.0  \n",
              "1      2.0  \n",
              "2      5.0  \n",
              "3      6.0  \n",
              "4      7.0  \n",
              "\n",
              "[5 rows x 28 columns]"
            ],
            "text/html": [
              "\n",
              "  <div id=\"df-67f46d37-a3bc-4e30-9995-c80cda6488d1\">\n",
              "    <div class=\"colab-df-container\">\n",
              "      <div>\n",
              "<style scoped>\n",
              "    .dataframe tbody tr th:only-of-type {\n",
              "        vertical-align: middle;\n",
              "    }\n",
              "\n",
              "    .dataframe tbody tr th {\n",
              "        vertical-align: top;\n",
              "    }\n",
              "\n",
              "    .dataframe thead th {\n",
              "        text-align: right;\n",
              "    }\n",
              "</style>\n",
              "<table border=\"1\" class=\"dataframe\">\n",
              "  <thead>\n",
              "    <tr style=\"text-align: right;\">\n",
              "      <th></th>\n",
              "      <th>Age</th>\n",
              "      <th>Weight</th>\n",
              "      <th>Build</th>\n",
              "      <th>Sleep</th>\n",
              "      <th>Digestive_system</th>\n",
              "      <th>Skin</th>\n",
              "      <th>Urine_quality</th>\n",
              "      <th>Stool_quality</th>\n",
              "      <th>Symptom1</th>\n",
              "      <th>Weight_status</th>\n",
              "      <th>...</th>\n",
              "      <th>Allergy</th>\n",
              "      <th>Descr_Allergy</th>\n",
              "      <th>Habit_food</th>\n",
              "      <th>Descript_food_habit</th>\n",
              "      <th>Allopathy</th>\n",
              "      <th>Descrip_Allopathy</th>\n",
              "      <th>Supplements</th>\n",
              "      <th>Descp_supplements</th>\n",
              "      <th>Others</th>\n",
              "      <th>Response</th>\n",
              "    </tr>\n",
              "  </thead>\n",
              "  <tbody>\n",
              "    <tr>\n",
              "      <th>0</th>\n",
              "      <td>22.0</td>\n",
              "      <td>83.0</td>\n",
              "      <td>Medium</td>\n",
              "      <td>Sometimes good and sometimes bad</td>\n",
              "      <td>Slow and sluggish</td>\n",
              "      <td>Combination skin</td>\n",
              "      <td>4</td>\n",
              "      <td>4</td>\n",
              "      <td>None of the above</td>\n",
              "      <td>Stable</td>\n",
              "      <td>...</td>\n",
              "      <td>No</td>\n",
              "      <td>No</td>\n",
              "      <td>No</td>\n",
              "      <td>No</td>\n",
              "      <td>No</td>\n",
              "      <td>No</td>\n",
              "      <td>No</td>\n",
              "      <td>No</td>\n",
              "      <td>No</td>\n",
              "      <td>1.0</td>\n",
              "    </tr>\n",
              "    <tr>\n",
              "      <th>1</th>\n",
              "      <td>33.0</td>\n",
              "      <td>87.0</td>\n",
              "      <td>Medium</td>\n",
              "      <td>Sometimes good and sometimes bad</td>\n",
              "      <td>Good and manageable</td>\n",
              "      <td>Combination skin</td>\n",
              "      <td>4</td>\n",
              "      <td>4</td>\n",
              "      <td>None of the above</td>\n",
              "      <td>Stable</td>\n",
              "      <td>...</td>\n",
              "      <td>No</td>\n",
              "      <td>may be dust - not sure</td>\n",
              "      <td>Yes</td>\n",
              "      <td>Consume vegetarian food only</td>\n",
              "      <td>No</td>\n",
              "      <td>No</td>\n",
              "      <td>No</td>\n",
              "      <td>Have taken some pills that is said to better t...</td>\n",
              "      <td>No</td>\n",
              "      <td>2.0</td>\n",
              "    </tr>\n",
              "    <tr>\n",
              "      <th>2</th>\n",
              "      <td>38.0</td>\n",
              "      <td>61.0</td>\n",
              "      <td>Medium</td>\n",
              "      <td>Sometimes good and sometimes bad</td>\n",
              "      <td>Good and manageable</td>\n",
              "      <td>Combination skin</td>\n",
              "      <td>3</td>\n",
              "      <td>4</td>\n",
              "      <td>None of the above</td>\n",
              "      <td>Gaining</td>\n",
              "      <td>...</td>\n",
              "      <td>No</td>\n",
              "      <td>No</td>\n",
              "      <td>Yes</td>\n",
              "      <td>Was vegetarian, started eating fish recently</td>\n",
              "      <td>No</td>\n",
              "      <td>No</td>\n",
              "      <td>Yes</td>\n",
              "      <td>Omega 3, vitamin C,D,E an B12, turmeric</td>\n",
              "      <td>No</td>\n",
              "      <td>5.0</td>\n",
              "    </tr>\n",
              "    <tr>\n",
              "      <th>3</th>\n",
              "      <td>30.0</td>\n",
              "      <td>54.0</td>\n",
              "      <td>Medium</td>\n",
              "      <td>Sometimes good and sometimes bad</td>\n",
              "      <td>Ranges between good and bad</td>\n",
              "      <td>Mostly dry, no lubrication</td>\n",
              "      <td>3</td>\n",
              "      <td>2</td>\n",
              "      <td>Constant gas and dissension of the stomach</td>\n",
              "      <td>Losing</td>\n",
              "      <td>...</td>\n",
              "      <td>No</td>\n",
              "      <td>No</td>\n",
              "      <td>No</td>\n",
              "      <td>No</td>\n",
              "      <td>Yes</td>\n",
              "      <td>Typhoid medicine</td>\n",
              "      <td>No</td>\n",
              "      <td>No</td>\n",
              "      <td>No</td>\n",
              "      <td>6.0</td>\n",
              "    </tr>\n",
              "    <tr>\n",
              "      <th>4</th>\n",
              "      <td>23.0</td>\n",
              "      <td>70.0</td>\n",
              "      <td>Medium</td>\n",
              "      <td>Sometimes good and sometimes bad</td>\n",
              "      <td>Good and manageable</td>\n",
              "      <td>Combination skin</td>\n",
              "      <td>5</td>\n",
              "      <td>5</td>\n",
              "      <td>None of the above</td>\n",
              "      <td>Stable</td>\n",
              "      <td>...</td>\n",
              "      <td>No</td>\n",
              "      <td>No</td>\n",
              "      <td>No</td>\n",
              "      <td>No</td>\n",
              "      <td>No</td>\n",
              "      <td>No</td>\n",
              "      <td>No</td>\n",
              "      <td>No</td>\n",
              "      <td>No</td>\n",
              "      <td>7.0</td>\n",
              "    </tr>\n",
              "  </tbody>\n",
              "</table>\n",
              "<p>5 rows × 28 columns</p>\n",
              "</div>\n",
              "      <button class=\"colab-df-convert\" onclick=\"convertToInteractive('df-67f46d37-a3bc-4e30-9995-c80cda6488d1')\"\n",
              "              title=\"Convert this dataframe to an interactive table.\"\n",
              "              style=\"display:none;\">\n",
              "        \n",
              "  <svg xmlns=\"http://www.w3.org/2000/svg\" height=\"24px\"viewBox=\"0 0 24 24\"\n",
              "       width=\"24px\">\n",
              "    <path d=\"M0 0h24v24H0V0z\" fill=\"none\"/>\n",
              "    <path d=\"M18.56 5.44l.94 2.06.94-2.06 2.06-.94-2.06-.94-.94-2.06-.94 2.06-2.06.94zm-11 1L8.5 8.5l.94-2.06 2.06-.94-2.06-.94L8.5 2.5l-.94 2.06-2.06.94zm10 10l.94 2.06.94-2.06 2.06-.94-2.06-.94-.94-2.06-.94 2.06-2.06.94z\"/><path d=\"M17.41 7.96l-1.37-1.37c-.4-.4-.92-.59-1.43-.59-.52 0-1.04.2-1.43.59L10.3 9.45l-7.72 7.72c-.78.78-.78 2.05 0 2.83L4 21.41c.39.39.9.59 1.41.59.51 0 1.02-.2 1.41-.59l7.78-7.78 2.81-2.81c.8-.78.8-2.07 0-2.86zM5.41 20L4 18.59l7.72-7.72 1.47 1.35L5.41 20z\"/>\n",
              "  </svg>\n",
              "      </button>\n",
              "      \n",
              "  <style>\n",
              "    .colab-df-container {\n",
              "      display:flex;\n",
              "      flex-wrap:wrap;\n",
              "      gap: 12px;\n",
              "    }\n",
              "\n",
              "    .colab-df-convert {\n",
              "      background-color: #E8F0FE;\n",
              "      border: none;\n",
              "      border-radius: 50%;\n",
              "      cursor: pointer;\n",
              "      display: none;\n",
              "      fill: #1967D2;\n",
              "      height: 32px;\n",
              "      padding: 0 0 0 0;\n",
              "      width: 32px;\n",
              "    }\n",
              "\n",
              "    .colab-df-convert:hover {\n",
              "      background-color: #E2EBFA;\n",
              "      box-shadow: 0px 1px 2px rgba(60, 64, 67, 0.3), 0px 1px 3px 1px rgba(60, 64, 67, 0.15);\n",
              "      fill: #174EA6;\n",
              "    }\n",
              "\n",
              "    [theme=dark] .colab-df-convert {\n",
              "      background-color: #3B4455;\n",
              "      fill: #D2E3FC;\n",
              "    }\n",
              "\n",
              "    [theme=dark] .colab-df-convert:hover {\n",
              "      background-color: #434B5C;\n",
              "      box-shadow: 0px 1px 3px 1px rgba(0, 0, 0, 0.15);\n",
              "      filter: drop-shadow(0px 1px 2px rgba(0, 0, 0, 0.3));\n",
              "      fill: #FFFFFF;\n",
              "    }\n",
              "  </style>\n",
              "\n",
              "      <script>\n",
              "        const buttonEl =\n",
              "          document.querySelector('#df-67f46d37-a3bc-4e30-9995-c80cda6488d1 button.colab-df-convert');\n",
              "        buttonEl.style.display =\n",
              "          google.colab.kernel.accessAllowed ? 'block' : 'none';\n",
              "\n",
              "        async function convertToInteractive(key) {\n",
              "          const element = document.querySelector('#df-67f46d37-a3bc-4e30-9995-c80cda6488d1');\n",
              "          const dataTable =\n",
              "            await google.colab.kernel.invokeFunction('convertToInteractive',\n",
              "                                                     [key], {});\n",
              "          if (!dataTable) return;\n",
              "\n",
              "          const docLinkHtml = 'Like what you see? Visit the ' +\n",
              "            '<a target=\"_blank\" href=https://colab.research.google.com/notebooks/data_table.ipynb>data table notebook</a>'\n",
              "            + ' to learn more about interactive tables.';\n",
              "          element.innerHTML = '';\n",
              "          dataTable['output_type'] = 'display_data';\n",
              "          await google.colab.output.renderOutput(dataTable, element);\n",
              "          const docLink = document.createElement('div');\n",
              "          docLink.innerHTML = docLinkHtml;\n",
              "          element.appendChild(docLink);\n",
              "        }\n",
              "      </script>\n",
              "    </div>\n",
              "  </div>\n",
              "  "
            ]
          },
          "metadata": {},
          "execution_count": 86
        }
      ]
    },
    {
      "cell_type": "markdown",
      "source": [
        "Finding missing values in the training set"
      ],
      "metadata": {
        "id": "ND70m1NhK7kt"
      }
    },
    {
      "cell_type": "code",
      "source": [
        "def missing_value_plot(data):\n",
        "    plt.figure(figsize=(20, 10))\n",
        "    nv = sns.heatmap(data.isnull(), yticklabels=False,cbar=False,cmap='viridis')\n",
        "    nv.set_xticklabels(\n",
        "        nv.get_xticklabels(),\n",
        "        rotation=45\n",
        "    );\n",
        "    \n",
        "    return nv\n",
        "\n",
        "missing_value_plot(rawdata)"
      ],
      "metadata": {
        "colab": {
          "base_uri": "https://localhost:8080/",
          "height": 678
        },
        "id": "-lBn7iaKen54",
        "outputId": "8ff6da16-4644-4b26-fc65-cbffccb0d578"
      },
      "execution_count": 87,
      "outputs": [
        {
          "output_type": "execute_result",
          "data": {
            "text/plain": [
              "<matplotlib.axes._subplots.AxesSubplot at 0x7f782910cdd0>"
            ]
          },
          "metadata": {},
          "execution_count": 87
        },
        {
          "output_type": "display_data",
          "data": {
            "text/plain": [
              "<Figure size 1440x720 with 1 Axes>"
            ],
            "image/png": "[encoded data removed]"
          },
          "metadata": {
            "needs_background": "light"
          }
        }
      ]
    },
    {
      "cell_type": "code",
      "source": [
        "rawdata.columns[rawdata.isnull().any()]"
      ],
      "metadata": {
        "colab": {
          "base_uri": "https://localhost:8080/"
        },
        "id": "MyyYFVCke1DB",
        "outputId": "6725bdf3-9e4a-4a9b-b7ea-1f1b1edc4404"
      },
      "execution_count": 88,
      "outputs": [
        {
          "output_type": "execute_result",
          "data": {
            "text/plain": [
              "Index(['Description_Surgery', 'Response'], dtype='object')"
            ]
          },
          "metadata": {},
          "execution_count": 88
        }
      ]
    },
    {
      "cell_type": "code",
      "source": [
        "a= [1,2,3,4,5,6,7]\n",
        "from statistics import mean\n",
        "print(mean(a))"
      ],
      "metadata": {
        "colab": {
          "base_uri": "https://localhost:8080/"
        },
        "id": "EgaQ0mTDe4HV",
        "outputId": "36d16822-4d5f-4487-f280-2f023235814f"
      },
      "execution_count": 89,
      "outputs": [
        {
          "output_type": "stream",
          "name": "stdout",
          "text": [
            "4\n"
          ]
        }
      ]
    },
    {
      "cell_type": "code",
      "source": [
        "rawdata.columns[rawdata.isna().mean().round(4) * 100 > .5]"
      ],
      "metadata": {
        "colab": {
          "base_uri": "https://localhost:8080/"
        },
        "id": "1pjcVlvsHatT",
        "outputId": "d05d2153-c2cd-4e5f-e44f-17c8d7aa97bd"
      },
      "execution_count": 90,
      "outputs": [
        {
          "output_type": "execute_result",
          "data": {
            "text/plain": [
              "Index(['Response'], dtype='object')"
            ]
          },
          "metadata": {},
          "execution_count": 90
        }
      ]
    },
    {
      "cell_type": "code",
      "source": [
        "rawdata = rawdata.drop(['Response'], axis = 1)"
      ],
      "metadata": {
        "id": "75sjTk5mHhvC"
      },
      "execution_count": 71,
      "outputs": []
    },
    {
      "cell_type": "code",
      "source": [
        "rawdata.info()"
      ],
      "metadata": {
        "colab": {
          "base_uri": "https://localhost:8080/"
        },
        "id": "5_WZWR0iCLYr",
        "outputId": "c09cb5a7-86af-4ab9-a95e-701db0dfbce1"
      },
      "execution_count": 91,
      "outputs": [
        {
          "output_type": "stream",
          "name": "stdout",
          "text": [
            "<class 'pandas.core.frame.DataFrame'>\n",
            "RangeIndex: 484 entries, 0 to 483\n",
            "Data columns (total 28 columns):\n",
            " #   Column               Non-Null Count  Dtype  \n",
            "---  ------               --------------  -----  \n",
            " 0   Age                  484 non-null    float64\n",
            " 1   Weight               484 non-null    float64\n",
            " 2   Build                484 non-null    object \n",
            " 3   Sleep                484 non-null    object \n",
            " 4   Digestive_system     484 non-null    object \n",
            " 5   Skin                 484 non-null    object \n",
            " 6   Urine_quality        484 non-null    int64  \n",
            " 7   Stool_quality        484 non-null    int64  \n",
            " 8   Symptom1             484 non-null    object \n",
            " 9   Weight_status        484 non-null    object \n",
            " 10  Symptom2             484 non-null    object \n",
            " 11  Depleting_sensory    484 non-null    object \n",
            " 12  Symptom 3            484 non-null    object \n",
            " 13  Symptom  4           484 non-null    object \n",
            " 14   Past_surgery        484 non-null    object \n",
            " 15  Description_Surgery  483 non-null    object \n",
            " 16  Dr                   484 non-null    object \n",
            " 17  Descript_doc         484 non-null    object \n",
            " 18  Allergy              484 non-null    object \n",
            " 19  Descr_Allergy        484 non-null    object \n",
            " 20  Habit_food           484 non-null    object \n",
            " 21  Descript_food_habit  484 non-null    object \n",
            " 22  Allopathy            484 non-null    object \n",
            " 23  Descrip_Allopathy    484 non-null    object \n",
            " 24  Supplements          484 non-null    object \n",
            " 25  Descp_supplements    484 non-null    object \n",
            " 26  Others               484 non-null    object \n",
            " 27  Response             469 non-null    float64\n",
            "dtypes: float64(3), int64(2), object(23)\n",
            "memory usage: 106.0+ KB\n"
          ]
        }
      ]
    },
    {
      "cell_type": "code",
      "source": [
        "rawdata.columns[rawdata.isnull().any()]"
      ],
      "metadata": {
        "colab": {
          "base_uri": "https://localhost:8080/"
        },
        "id": "o1GqH0n5H6La",
        "outputId": "0deac90c-08f5-4751-e891-5aeb389bbf42"
      },
      "execution_count": 92,
      "outputs": [
        {
          "output_type": "execute_result",
          "data": {
            "text/plain": [
              "Index(['Description_Surgery', 'Response'], dtype='object')"
            ]
          },
          "metadata": {},
          "execution_count": 92
        }
      ]
    },
    {
      "cell_type": "code",
      "source": [
        "rawdata.head()"
      ],
      "metadata": {
        "colab": {
          "base_uri": "https://localhost:8080/",
          "height": 577
        },
        "id": "4eztVdbLKMol",
        "outputId": "41da81ec-5a69-4ec9-f0bc-8024143c3819"
      },
      "execution_count": 93,
      "outputs": [
        {
          "output_type": "execute_result",
          "data": {
            "text/plain": [
              "    Age  Weight   Build                             Sleep  \\\n",
              "0  22.0    83.0  Medium  Sometimes good and sometimes bad   \n",
              "1  33.0    87.0  Medium  Sometimes good and sometimes bad   \n",
              "2  38.0    61.0  Medium  Sometimes good and sometimes bad   \n",
              "3  30.0    54.0  Medium  Sometimes good and sometimes bad   \n",
              "4  23.0    70.0  Medium  Sometimes good and sometimes bad   \n",
              "\n",
              "              Digestive_system                        Skin  Urine_quality  \\\n",
              "0            Slow and sluggish            Combination skin              4   \n",
              "1          Good and manageable            Combination skin              4   \n",
              "2          Good and manageable            Combination skin              3   \n",
              "3  Ranges between good and bad  Mostly dry, no lubrication              3   \n",
              "4          Good and manageable            Combination skin              5   \n",
              "\n",
              "   Stool_quality                                    Symptom1 Weight_status  \\\n",
              "0              4                           None of the above        Stable   \n",
              "1              4                           None of the above        Stable   \n",
              "2              4                           None of the above       Gaining   \n",
              "3              2  Constant gas and dissension of the stomach        Losing   \n",
              "4              5                           None of the above        Stable   \n",
              "\n",
              "   ... Allergy           Descr_Allergy Habit_food  \\\n",
              "0  ...      No                      No         No   \n",
              "1  ...      No  may be dust - not sure        Yes   \n",
              "2  ...      No                      No        Yes   \n",
              "3  ...      No                      No         No   \n",
              "4  ...      No                      No         No   \n",
              "\n",
              "                            Descript_food_habit Allopathy  Descrip_Allopathy  \\\n",
              "0                                            No        No                 No   \n",
              "1                 Consume vegetarian food only         No                 No   \n",
              "2  Was vegetarian, started eating fish recently        No                 No   \n",
              "3                                            No       Yes  Typhoid medicine    \n",
              "4                                            No        No                 No   \n",
              "\n",
              "  Supplements                                  Descp_supplements Others  \\\n",
              "0          No                                                 No     No   \n",
              "1          No  Have taken some pills that is said to better t...     No   \n",
              "2         Yes            Omega 3, vitamin C,D,E an B12, turmeric     No   \n",
              "3          No                                                 No     No   \n",
              "4          No                                                 No     No   \n",
              "\n",
              "  Response  \n",
              "0      1.0  \n",
              "1      2.0  \n",
              "2      5.0  \n",
              "3      6.0  \n",
              "4      7.0  \n",
              "\n",
              "[5 rows x 28 columns]"
            ],
            "text/html": [
              "\n",
              "  <div id=\"df-d4df0427-0f58-4091-beb4-499123ec6839\">\n",
              "    <div class=\"colab-df-container\">\n",
              "      <div>\n",
              "<style scoped>\n",
              "    .dataframe tbody tr th:only-of-type {\n",
              "        vertical-align: middle;\n",
              "    }\n",
              "\n",
              "    .dataframe tbody tr th {\n",
              "        vertical-align: top;\n",
              "    }\n",
              "\n",
              "    .dataframe thead th {\n",
              "        text-align: right;\n",
              "    }\n",
              "</style>\n",
              "<table border=\"1\" class=\"dataframe\">\n",
              "  <thead>\n",
              "    <tr style=\"text-align: right;\">\n",
              "      <th></th>\n",
              "      <th>Age</th>\n",
              "      <th>Weight</th>\n",
              "      <th>Build</th>\n",
              "      <th>Sleep</th>\n",
              "      <th>Digestive_system</th>\n",
              "      <th>Skin</th>\n",
              "      <th>Urine_quality</th>\n",
              "      <th>Stool_quality</th>\n",
              "      <th>Symptom1</th>\n",
              "      <th>Weight_status</th>\n",
              "      <th>...</th>\n",
              "      <th>Allergy</th>\n",
              "      <th>Descr_Allergy</th>\n",
              "      <th>Habit_food</th>\n",
              "      <th>Descript_food_habit</th>\n",
              "      <th>Allopathy</th>\n",
              "      <th>Descrip_Allopathy</th>\n",
              "      <th>Supplements</th>\n",
              "      <th>Descp_supplements</th>\n",
              "      <th>Others</th>\n",
              "      <th>Response</th>\n",
              "    </tr>\n",
              "  </thead>\n",
              "  <tbody>\n",
              "    <tr>\n",
              "      <th>0</th>\n",
              "      <td>22.0</td>\n",
              "      <td>83.0</td>\n",
              "      <td>Medium</td>\n",
              "      <td>Sometimes good and sometimes bad</td>\n",
              "      <td>Slow and sluggish</td>\n",
              "      <td>Combination skin</td>\n",
              "      <td>4</td>\n",
              "      <td>4</td>\n",
              "      <td>None of the above</td>\n",
              "      <td>Stable</td>\n",
              "      <td>...</td>\n",
              "      <td>No</td>\n",
              "      <td>No</td>\n",
              "      <td>No</td>\n",
              "      <td>No</td>\n",
              "      <td>No</td>\n",
              "      <td>No</td>\n",
              "      <td>No</td>\n",
              "      <td>No</td>\n",
              "      <td>No</td>\n",
              "      <td>1.0</td>\n",
              "    </tr>\n",
              "    <tr>\n",
              "      <th>1</th>\n",
              "      <td>33.0</td>\n",
              "      <td>87.0</td>\n",
              "      <td>Medium</td>\n",
              "      <td>Sometimes good and sometimes bad</td>\n",
              "      <td>Good and manageable</td>\n",
              "      <td>Combination skin</td>\n",
              "      <td>4</td>\n",
              "      <td>4</td>\n",
              "      <td>None of the above</td>\n",
              "      <td>Stable</td>\n",
              "      <td>...</td>\n",
              "      <td>No</td>\n",
              "      <td>may be dust - not sure</td>\n",
              "      <td>Yes</td>\n",
              "      <td>Consume vegetarian food only</td>\n",
              "      <td>No</td>\n",
              "      <td>No</td>\n",
              "      <td>No</td>\n",
              "      <td>Have taken some pills that is said to better t...</td>\n",
              "      <td>No</td>\n",
              "      <td>2.0</td>\n",
              "    </tr>\n",
              "    <tr>\n",
              "      <th>2</th>\n",
              "      <td>38.0</td>\n",
              "      <td>61.0</td>\n",
              "      <td>Medium</td>\n",
              "      <td>Sometimes good and sometimes bad</td>\n",
              "      <td>Good and manageable</td>\n",
              "      <td>Combination skin</td>\n",
              "      <td>3</td>\n",
              "      <td>4</td>\n",
              "      <td>None of the above</td>\n",
              "      <td>Gaining</td>\n",
              "      <td>...</td>\n",
              "      <td>No</td>\n",
              "      <td>No</td>\n",
              "      <td>Yes</td>\n",
              "      <td>Was vegetarian, started eating fish recently</td>\n",
              "      <td>No</td>\n",
              "      <td>No</td>\n",
              "      <td>Yes</td>\n",
              "      <td>Omega 3, vitamin C,D,E an B12, turmeric</td>\n",
              "      <td>No</td>\n",
              "      <td>5.0</td>\n",
              "    </tr>\n",
              "    <tr>\n",
              "      <th>3</th>\n",
              "      <td>30.0</td>\n",
              "      <td>54.0</td>\n",
              "      <td>Medium</td>\n",
              "      <td>Sometimes good and sometimes bad</td>\n",
              "      <td>Ranges between good and bad</td>\n",
              "      <td>Mostly dry, no lubrication</td>\n",
              "      <td>3</td>\n",
              "      <td>2</td>\n",
              "      <td>Constant gas and dissension of the stomach</td>\n",
              "      <td>Losing</td>\n",
              "      <td>...</td>\n",
              "      <td>No</td>\n",
              "      <td>No</td>\n",
              "      <td>No</td>\n",
              "      <td>No</td>\n",
              "      <td>Yes</td>\n",
              "      <td>Typhoid medicine</td>\n",
              "      <td>No</td>\n",
              "      <td>No</td>\n",
              "      <td>No</td>\n",
              "      <td>6.0</td>\n",
              "    </tr>\n",
              "    <tr>\n",
              "      <th>4</th>\n",
              "      <td>23.0</td>\n",
              "      <td>70.0</td>\n",
              "      <td>Medium</td>\n",
              "      <td>Sometimes good and sometimes bad</td>\n",
              "      <td>Good and manageable</td>\n",
              "      <td>Combination skin</td>\n",
              "      <td>5</td>\n",
              "      <td>5</td>\n",
              "      <td>None of the above</td>\n",
              "      <td>Stable</td>\n",
              "      <td>...</td>\n",
              "      <td>No</td>\n",
              "      <td>No</td>\n",
              "      <td>No</td>\n",
              "      <td>No</td>\n",
              "      <td>No</td>\n",
              "      <td>No</td>\n",
              "      <td>No</td>\n",
              "      <td>No</td>\n",
              "      <td>No</td>\n",
              "      <td>7.0</td>\n",
              "    </tr>\n",
              "  </tbody>\n",
              "</table>\n",
              "<p>5 rows × 28 columns</p>\n",
              "</div>\n",
              "      <button class=\"colab-df-convert\" onclick=\"convertToInteractive('df-d4df0427-0f58-4091-beb4-499123ec6839')\"\n",
              "              title=\"Convert this dataframe to an interactive table.\"\n",
              "              style=\"display:none;\">\n",
              "        \n",
              "  <svg xmlns=\"http://www.w3.org/2000/svg\" height=\"24px\"viewBox=\"0 0 24 24\"\n",
              "       width=\"24px\">\n",
              "    <path d=\"M0 0h24v24H0V0z\" fill=\"none\"/>\n",
              "    <path d=\"M18.56 5.44l.94 2.06.94-2.06 2.06-.94-2.06-.94-.94-2.06-.94 2.06-2.06.94zm-11 1L8.5 8.5l.94-2.06 2.06-.94-2.06-.94L8.5 2.5l-.94 2.06-2.06.94zm10 10l.94 2.06.94-2.06 2.06-.94-2.06-.94-.94-2.06-.94 2.06-2.06.94z\"/><path d=\"M17.41 7.96l-1.37-1.37c-.4-.4-.92-.59-1.43-.59-.52 0-1.04.2-1.43.59L10.3 9.45l-7.72 7.72c-.78.78-.78 2.05 0 2.83L4 21.41c.39.39.9.59 1.41.59.51 0 1.02-.2 1.41-.59l7.78-7.78 2.81-2.81c.8-.78.8-2.07 0-2.86zM5.41 20L4 18.59l7.72-7.72 1.47 1.35L5.41 20z\"/>\n",
              "  </svg>\n",
              "      </button>\n",
              "      \n",
              "  <style>\n",
              "    .colab-df-container {\n",
              "      display:flex;\n",
              "      flex-wrap:wrap;\n",
              "      gap: 12px;\n",
              "    }\n",
              "\n",
              "    .colab-df-convert {\n",
              "      background-color: #E8F0FE;\n",
              "      border: none;\n",
              "      border-radius: 50%;\n",
              "      cursor: pointer;\n",
              "      display: none;\n",
              "      fill: #1967D2;\n",
              "      height: 32px;\n",
              "      padding: 0 0 0 0;\n",
              "      width: 32px;\n",
              "    }\n",
              "\n",
              "    .colab-df-convert:hover {\n",
              "      background-color: #E2EBFA;\n",
              "      box-shadow: 0px 1px 2px rgba(60, 64, 67, 0.3), 0px 1px 3px 1px rgba(60, 64, 67, 0.15);\n",
              "      fill: #174EA6;\n",
              "    }\n",
              "\n",
              "    [theme=dark] .colab-df-convert {\n",
              "      background-color: #3B4455;\n",
              "      fill: #D2E3FC;\n",
              "    }\n",
              "\n",
              "    [theme=dark] .colab-df-convert:hover {\n",
              "      background-color: #434B5C;\n",
              "      box-shadow: 0px 1px 3px 1px rgba(0, 0, 0, 0.15);\n",
              "      filter: drop-shadow(0px 1px 2px rgba(0, 0, 0, 0.3));\n",
              "      fill: #FFFFFF;\n",
              "    }\n",
              "  </style>\n",
              "\n",
              "      <script>\n",
              "        const buttonEl =\n",
              "          document.querySelector('#df-d4df0427-0f58-4091-beb4-499123ec6839 button.colab-df-convert');\n",
              "        buttonEl.style.display =\n",
              "          google.colab.kernel.accessAllowed ? 'block' : 'none';\n",
              "\n",
              "        async function convertToInteractive(key) {\n",
              "          const element = document.querySelector('#df-d4df0427-0f58-4091-beb4-499123ec6839');\n",
              "          const dataTable =\n",
              "            await google.colab.kernel.invokeFunction('convertToInteractive',\n",
              "                                                     [key], {});\n",
              "          if (!dataTable) return;\n",
              "\n",
              "          const docLinkHtml = 'Like what you see? Visit the ' +\n",
              "            '<a target=\"_blank\" href=https://colab.research.google.com/notebooks/data_table.ipynb>data table notebook</a>'\n",
              "            + ' to learn more about interactive tables.';\n",
              "          element.innerHTML = '';\n",
              "          dataTable['output_type'] = 'display_data';\n",
              "          await google.colab.output.renderOutput(dataTable, element);\n",
              "          const docLink = document.createElement('div');\n",
              "          docLink.innerHTML = docLinkHtml;\n",
              "          element.appendChild(docLink);\n",
              "        }\n",
              "      </script>\n",
              "    </div>\n",
              "  </div>\n",
              "  "
            ]
          },
          "metadata": {},
          "execution_count": 93
        }
      ]
    },
    {
      "cell_type": "markdown",
      "source": [
        "Exploratory data analysis"
      ],
      "metadata": {
        "id": "OLobZediLHFb"
      }
    },
    {
      "cell_type": "code",
      "source": [
        "plt.figure(figsize=(10, 5))\n",
        "sns.distplot(rawdata['Age'], bins = 10)"
      ],
      "metadata": {
        "colab": {
          "base_uri": "https://localhost:8080/",
          "height": 406
        },
        "id": "xTZ_d6rrC_HD",
        "outputId": "66228fe1-b981-4b3a-cdf0-caf242ef01ce"
      },
      "execution_count": 94,
      "outputs": [
        {
          "output_type": "stream",
          "name": "stderr",
          "text": [
            "/usr/local/lib/python3.7/dist-packages/seaborn/distributions.py:2619: FutureWarning: `distplot` is a deprecated function and will be removed in a future version. Please adapt your code to use either `displot` (a figure-level function with similar flexibility) or `histplot` (an axes-level function for histograms).\n",
            "  warnings.warn(msg, FutureWarning)\n"
          ]
        },
        {
          "output_type": "execute_result",
          "data": {
            "text/plain": [
              "<matplotlib.axes._subplots.AxesSubplot at 0x7f7829056310>"
            ]
          },
          "metadata": {},
          "execution_count": 94
        },
        {
          "output_type": "display_data",
          "data": {
            "text/plain": [
              "<Figure size 720x360 with 1 Axes>"
            ],
            "image/png": "[encoded data removed]"
          },
          "metadata": {
            "needs_background": "light"
          }
        }
      ]
    },
    {
      "cell_type": "code",
      "source": [
        "plt.figure(figsize=(10, 5))\n",
        "sns.distplot(rawdata['Weight'], bins = 30)"
      ],
      "metadata": {
        "colab": {
          "base_uri": "https://localhost:8080/",
          "height": 406
        },
        "id": "oqDWj1pUKaor",
        "outputId": "b0c1a74e-0b30-4ce0-e52c-0cefa10373a2"
      },
      "execution_count": 95,
      "outputs": [
        {
          "output_type": "stream",
          "name": "stderr",
          "text": [
            "/usr/local/lib/python3.7/dist-packages/seaborn/distributions.py:2619: FutureWarning: `distplot` is a deprecated function and will be removed in a future version. Please adapt your code to use either `displot` (a figure-level function with similar flexibility) or `histplot` (an axes-level function for histograms).\n",
            "  warnings.warn(msg, FutureWarning)\n"
          ]
        },
        {
          "output_type": "execute_result",
          "data": {
            "text/plain": [
              "<matplotlib.axes._subplots.AxesSubplot at 0x7f7828feef10>"
            ]
          },
          "metadata": {},
          "execution_count": 95
        },
        {
          "output_type": "display_data",
          "data": {
            "text/plain": [
              "<Figure size 720x360 with 1 Axes>"
            ],
            "image/png": "[encoded data removed]"
          },
          "metadata": {
            "needs_background": "light"
          }
        }
      ]
    },
    {
      "cell_type": "code",
      "source": [
        "# Building PDF and CDF plots\n",
        "counts, bin_edges = np.histogram(rawdata['Age'], bins = 20, density = True)\n",
        "pdf = counts/sum(counts)\n",
        "print(pdf)\n",
        "print (bin_edges)\n",
        "\n",
        "cdf = np.cumsum(pdf)\n",
        "plt.plot(bin_edges[1:],pdf)\n",
        "plt.plot(bin_edges[1:],cdf)"
      ],
      "metadata": {
        "colab": {
          "base_uri": "https://localhost:8080/",
          "height": 386
        },
        "id": "sa7fRWZ6DRJ3",
        "outputId": "17c5625d-8116-44ae-cc04-c43f1df65283"
      },
      "execution_count": 96,
      "outputs": [
        {
          "output_type": "stream",
          "name": "stdout",
          "text": [
            "[0.01033058 0.04338843 0.08677686 0.1714876  0.11157025 0.13429752\n",
            " 0.1053719  0.09710744 0.05371901 0.05991736 0.02479339 0.01652893\n",
            " 0.00826446 0.02892562 0.01652893 0.01033058 0.00619835 0.00413223\n",
            " 0.00826446 0.00206612]\n",
            "[19.   21.95 24.9  27.85 30.8  33.75 36.7  39.65 42.6  45.55 48.5  51.45\n",
            " 54.4  57.35 60.3  63.25 66.2  69.15 72.1  75.05 78.  ]\n"
          ]
        },
        {
          "output_type": "execute_result",
          "data": {
            "text/plain": [
              "[<matplotlib.lines.Line2D at 0x7f7828ee61d0>]"
            ]
          },
          "metadata": {},
          "execution_count": 96
        },
        {
          "output_type": "display_data",
          "data": {
            "text/plain": [
              "<Figure size 432x288 with 1 Axes>"
            ],
            "image/png": "[encoded data removed]"
          },
          "metadata": {
            "needs_background": "light"
          }
        }
      ]
    },
    {
      "cell_type": "code",
      "source": [
        "sns.jointplot(x='Age',y='Response', data=rawdata, kind='kde')\n",
        "plt.show()"
      ],
      "metadata": {
        "colab": {
          "base_uri": "https://localhost:8080/",
          "height": 441
        },
        "id": "2G8wWejeDb2k",
        "outputId": "44347e38-5c64-42c6-82d5-c36c3a86683b"
      },
      "execution_count": 97,
      "outputs": [
        {
          "output_type": "display_data",
          "data": {
            "text/plain": [
              "<Figure size 432x432 with 3 Axes>"
            ],
            "image/png": "[encoded data removed]"
          },
          "metadata": {
            "needs_background": "light"
          }
        }
      ]
    },
    {
      "cell_type": "code",
      "source": [
        "plt.figure(figsize=(10,10))\n",
        "sns.FacetGrid(rawdata, hue = 'Response').map(sns.distplot,'Age').add_legend()"
      ],
      "metadata": {
        "colab": {
          "base_uri": "https://localhost:8080/",
          "height": 592
        },
        "id": "FyGqcRA1DqHZ",
        "outputId": "07a45803-8e07-4ce1-df8f-0bf9c72d54cc"
      },
      "execution_count": 98,
      "outputs": [
        {
          "output_type": "stream",
          "name": "stderr",
          "text": [
            "/usr/local/lib/python3.7/dist-packages/seaborn/distributions.py:2619: FutureWarning: `distplot` is a deprecated function and will be removed in a future version. Please adapt your code to use either `displot` (a figure-level function with similar flexibility) or `histplot` (an axes-level function for histograms).\n",
            "  warnings.warn(msg, FutureWarning)\n",
            "/usr/local/lib/python3.7/dist-packages/seaborn/distributions.py:2619: FutureWarning: `distplot` is a deprecated function and will be removed in a future version. Please adapt your code to use either `displot` (a figure-level function with similar flexibility) or `histplot` (an axes-level function for histograms).\n",
            "  warnings.warn(msg, FutureWarning)\n",
            "/usr/local/lib/python3.7/dist-packages/seaborn/distributions.py:2619: FutureWarning: `distplot` is a deprecated function and will be removed in a future version. Please adapt your code to use either `displot` (a figure-level function with similar flexibility) or `histplot` (an axes-level function for histograms).\n",
            "  warnings.warn(msg, FutureWarning)\n",
            "/usr/local/lib/python3.7/dist-packages/seaborn/distributions.py:2619: FutureWarning: `distplot` is a deprecated function and will be removed in a future version. Please adapt your code to use either `displot` (a figure-level function with similar flexibility) or `histplot` (an axes-level function for histograms).\n",
            "  warnings.warn(msg, FutureWarning)\n",
            "/usr/local/lib/python3.7/dist-packages/seaborn/distributions.py:2619: FutureWarning: `distplot` is a deprecated function and will be removed in a future version. Please adapt your code to use either `displot` (a figure-level function with similar flexibility) or `histplot` (an axes-level function for histograms).\n",
            "  warnings.warn(msg, FutureWarning)\n",
            "/usr/local/lib/python3.7/dist-packages/seaborn/distributions.py:2619: FutureWarning: `distplot` is a deprecated function and will be removed in a future version. Please adapt your code to use either `displot` (a figure-level function with similar flexibility) or `histplot` (an axes-level function for histograms).\n",
            "  warnings.warn(msg, FutureWarning)\n",
            "/usr/local/lib/python3.7/dist-packages/seaborn/distributions.py:2619: FutureWarning: `distplot` is a deprecated function and will be removed in a future version. Please adapt your code to use either `displot` (a figure-level function with similar flexibility) or `histplot` (an axes-level function for histograms).\n",
            "  warnings.warn(msg, FutureWarning)\n",
            "/usr/local/lib/python3.7/dist-packages/seaborn/distributions.py:2619: FutureWarning: `distplot` is a deprecated function and will be removed in a future version. Please adapt your code to use either `displot` (a figure-level function with similar flexibility) or `histplot` (an axes-level function for histograms).\n",
            "  warnings.warn(msg, FutureWarning)\n",
            "/usr/local/lib/python3.7/dist-packages/seaborn/distributions.py:2619: FutureWarning: `distplot` is a deprecated function and will be removed in a future version. Please adapt your code to use either `displot` (a figure-level function with similar flexibility) or `histplot` (an axes-level function for histograms).\n",
            "  warnings.warn(msg, FutureWarning)\n"
          ]
        },
        {
          "output_type": "execute_result",
          "data": {
            "text/plain": [
              "<seaborn.axisgrid.FacetGrid at 0x7f7828db8ed0>"
            ]
          },
          "metadata": {},
          "execution_count": 98
        },
        {
          "output_type": "display_data",
          "data": {
            "text/plain": [
              "<Figure size 720x720 with 0 Axes>"
            ]
          },
          "metadata": {}
        },
        {
          "output_type": "display_data",
          "data": {
            "text/plain": [
              "<Figure size 271.75x216 with 1 Axes>"
            ],
            "image/png": "[encoded data removed]"
          },
          "metadata": {
            "needs_background": "light"
          }
        }
      ]
    },
    {
      "cell_type": "markdown",
      "source": [
        "Finding Anomalies"
      ],
      "metadata": {
        "id": "B8mSCmFpLZBL"
      }
    },
    {
      "cell_type": "code",
      "source": [
        "plt.figure(figsize=(10,10))\n",
        "rawdata.boxplot(column=['Age','Weight'])"
      ],
      "metadata": {
        "colab": {
          "base_uri": "https://localhost:8080/",
          "height": 608
        },
        "id": "zPr0lkXKD0Vi",
        "outputId": "6f488505-7d0d-4f7b-f886-1821bb8091ea"
      },
      "execution_count": 99,
      "outputs": [
        {
          "output_type": "execute_result",
          "data": {
            "text/plain": [
              "<matplotlib.axes._subplots.AxesSubplot at 0x7f7828d8a1d0>"
            ]
          },
          "metadata": {},
          "execution_count": 99
        },
        {
          "output_type": "display_data",
          "data": {
            "text/plain": [
              "<Figure size 720x720 with 1 Axes>"
            ],
            "image/png": "[encoded data removed]"
          },
          "metadata": {
            "needs_background": "light"
          }
        }
      ]
    },
    {
      "cell_type": "code",
      "source": [
        "cols = rawdata.columns"
      ],
      "metadata": {
        "id": "5RAA0IYaMLki"
      },
      "execution_count": 100,
      "outputs": []
    },
    {
      "cell_type": "code",
      "source": [
        "num_cols = rawdata._get_numeric_data().columns"
      ],
      "metadata": {
        "id": "iIgESyJ3MQOV"
      },
      "execution_count": 101,
      "outputs": []
    },
    {
      "cell_type": "code",
      "source": [
        "list(set(cols) - set(num_cols))"
      ],
      "metadata": {
        "colab": {
          "base_uri": "https://localhost:8080/"
        },
        "id": "twmE_WpdMUlj",
        "outputId": "5f980d28-6391-45e2-b7c3-a3b8ea18afcf"
      },
      "execution_count": 102,
      "outputs": [
        {
          "output_type": "execute_result",
          "data": {
            "text/plain": [
              "['Descript_food_habit',\n",
              " 'Weight_status',\n",
              " 'Others',\n",
              " 'Description_Surgery',\n",
              " 'Symptom 3',\n",
              " 'Symptom1',\n",
              " ' Past_surgery',\n",
              " 'Descrip_Allopathy',\n",
              " 'Habit_food',\n",
              " 'Symptom  4',\n",
              " 'Dr',\n",
              " 'Digestive_system',\n",
              " 'Symptom2',\n",
              " 'Skin',\n",
              " 'Descp_supplements',\n",
              " 'Depleting_sensory',\n",
              " 'Sleep',\n",
              " 'Descript_doc',\n",
              " 'Build',\n",
              " 'Descr_Allergy',\n",
              " 'Supplements',\n",
              " 'Allopathy',\n",
              " 'Allergy']"
            ]
          },
          "metadata": {},
          "execution_count": 102
        }
      ]
    },
    {
      "cell_type": "code",
      "source": [
        "from sklearn import preprocessing"
      ],
      "metadata": {
        "id": "IuP-EXfdES81"
      },
      "execution_count": 103,
      "outputs": []
    },
    {
      "cell_type": "code",
      "source": [
        "def make_corr_matrix(data):\n",
        "    \n",
        "    corr = data.corr()\n",
        "    ax = sns.heatmap(corr, vmin=-1, vmax=1, center=0,\n",
        "                    cmap = sns.diverging_palette(20,220, n=200),\n",
        "                    square = True)\n",
        "    ax.set_xticklabels(ax.get_xticklabels(), rotation=45,\n",
        "                      horizontalalignment = 'right');\n",
        "    \n",
        "    return ax\n",
        "\n",
        "make_corr_matrix(rawdata[['Age','Weight']])"
      ],
      "metadata": {
        "colab": {
          "base_uri": "https://localhost:8080/",
          "height": 308
        },
        "id": "bc1O0yGWOOsB",
        "outputId": "1b38ec70-3b02-4b38-d4a8-8514e7f492c8"
      },
      "execution_count": 104,
      "outputs": [
        {
          "output_type": "execute_result",
          "data": {
            "text/plain": [
              "<matplotlib.axes._subplots.AxesSubplot at 0x7f78291c0990>"
            ]
          },
          "metadata": {},
          "execution_count": 104
        },
        {
          "output_type": "display_data",
          "data": {
            "text/plain": [
              "<Figure size 432x288 with 2 Axes>"
            ],
            "image/png": "[encoded data removed]"
          },
          "metadata": {
            "needs_background": "light"
          }
        }
      ]
    },
    {
      "cell_type": "code",
      "source": [
        "X = rawdata.iloc[:,:-1] #Selecting all columns except the last target column"
      ],
      "metadata": {
        "id": "WaI4TdxFEnyG"
      },
      "execution_count": 105,
      "outputs": []
    },
    {
      "cell_type": "code",
      "source": [
        "Y = rawdata['Response']"
      ],
      "metadata": {
        "id": "pIwH_Sc-Eq05"
      },
      "execution_count": 106,
      "outputs": []
    },
    {
      "cell_type": "code",
      "source": [
        "X.shape"
      ],
      "metadata": {
        "colab": {
          "base_uri": "https://localhost:8080/"
        },
        "id": "NEx5hadbEuI9",
        "outputId": "c065cb3e-dc5d-4e79-f6fe-ee32fdb65773"
      },
      "execution_count": 107,
      "outputs": [
        {
          "output_type": "execute_result",
          "data": {
            "text/plain": [
              "(484, 27)"
            ]
          },
          "metadata": {},
          "execution_count": 107
        }
      ]
    },
    {
      "cell_type": "code",
      "source": [
        "plt.figure(figsize=(10,5))\n",
        "rawdata.Response.value_counts().plot(kind='bar');\n",
        "plt.show()"
      ],
      "metadata": {
        "colab": {
          "base_uri": "https://localhost:8080/",
          "height": 326
        },
        "id": "LmQJ_xbAE03G",
        "outputId": "fabd217f-5891-43fd-b059-18719d8d6cdf"
      },
      "execution_count": 108,
      "outputs": [
        {
          "output_type": "display_data",
          "data": {
            "text/plain": [
              "<Figure size 720x360 with 1 Axes>"
            ],
            "image/png": "[encoded data removed]"
          },
          "metadata": {
            "needs_background": "light"
          }
        }
      ]
    }
  ]
}